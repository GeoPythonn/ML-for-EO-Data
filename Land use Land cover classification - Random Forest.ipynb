{
 "cells": [
  {
   "cell_type": "code",
   "execution_count": 41,
   "id": "583be14c",
   "metadata": {},
   "outputs": [],
   "source": [
    "# Import the necessary modules\n",
    "from os import path as op\n",
    "import geopandas as gpd\n",
    "import pandas as pd\n",
    "import matplotlib.pyplot as plt\n",
    "import numpy as np\n",
    "import pickle\n",
    "import rasterio\n",
    "from rasterio.features import rasterize\n",
    "from rasterstats.io import bounds_window\n",
    "from rasterio.features import geometry_window\n",
    "import rasterstats\n",
    "from sklearn.metrics import confusion_matrix\n",
    "from sklearn.model_selection import train_test_split\n",
    "from sklearn.ensemble import RandomForestClassifier\n",
    "from treeinterpreter import treeinterpreter as ti\n",
    "from osgeo import gdal"
   ]
  },
  {
   "cell_type": "code",
   "execution_count": 14,
   "id": "d000b4b7",
   "metadata": {},
   "outputs": [
    {
     "data": {
      "text/html": [
       "<div>\n",
       "<style scoped>\n",
       "    .dataframe tbody tr th:only-of-type {\n",
       "        vertical-align: middle;\n",
       "    }\n",
       "\n",
       "    .dataframe tbody tr th {\n",
       "        vertical-align: top;\n",
       "    }\n",
       "\n",
       "    .dataframe thead th {\n",
       "        text-align: right;\n",
       "    }\n",
       "</style>\n",
       "<table border=\"1\" class=\"dataframe\">\n",
       "  <thead>\n",
       "    <tr style=\"text-align: right;\">\n",
       "      <th></th>\n",
       "      <th>name</th>\n",
       "      <th>description</th>\n",
       "      <th>geometry</th>\n",
       "    </tr>\n",
       "  </thead>\n",
       "  <tbody>\n",
       "    <tr>\n",
       "      <th>0</th>\n",
       "      <td>Shadow</td>\n",
       "      <td>None</td>\n",
       "      <td>MULTIPOLYGON (((34.83383 1.18204, 34.83577 1.1...</td>\n",
       "    </tr>\n",
       "    <tr>\n",
       "      <th>1</th>\n",
       "      <td>Forestland</td>\n",
       "      <td>None</td>\n",
       "      <td>MULTIPOLYGON (((35.30961 1.01328, 35.30964 1.0...</td>\n",
       "    </tr>\n",
       "    <tr>\n",
       "      <th>2</th>\n",
       "      <td>Maize</td>\n",
       "      <td>early reproductive</td>\n",
       "      <td>MULTIPOLYGON (((34.90904 1.09515, 34.90907 1.0...</td>\n",
       "    </tr>\n",
       "    <tr>\n",
       "      <th>3</th>\n",
       "      <td>Sugarcane</td>\n",
       "      <td>no change..maize farm on the right and far lef...</td>\n",
       "      <td>MULTIPOLYGON (((34.90750 1.08934, 34.90753 1.0...</td>\n",
       "    </tr>\n",
       "    <tr>\n",
       "      <th>4</th>\n",
       "      <td>Maize</td>\n",
       "      <td>reproductive good crop</td>\n",
       "      <td>MULTIPOLYGON (((34.87144 0.82953, 34.87147 0.8...</td>\n",
       "    </tr>\n",
       "  </tbody>\n",
       "</table>\n",
       "</div>"
      ],
      "text/plain": [
       "         name                                        description  \\\n",
       "0      Shadow                                               None   \n",
       "1  Forestland                                               None   \n",
       "2       Maize                                 early reproductive   \n",
       "3   Sugarcane  no change..maize farm on the right and far lef...   \n",
       "4       Maize                             reproductive good crop   \n",
       "\n",
       "                                            geometry  \n",
       "0  MULTIPOLYGON (((34.83383 1.18204, 34.83577 1.1...  \n",
       "1  MULTIPOLYGON (((35.30961 1.01328, 35.30964 1.0...  \n",
       "2  MULTIPOLYGON (((34.90904 1.09515, 34.90907 1.0...  \n",
       "3  MULTIPOLYGON (((34.90750 1.08934, 34.90753 1.0...  \n",
       "4  MULTIPOLYGON (((34.87144 0.82953, 34.87147 0.8...  "
      ]
     },
     "execution_count": 14,
     "metadata": {},
     "output_type": "execute_result"
    }
   ],
   "source": [
    "#Read in the training dataset, its in geojson format\n",
    "training_vectors = gpd.read_file('training_data.geojson')\n",
    "training_vectors.head()"
   ]
  },
  {
   "cell_type": "code",
   "execution_count": 15,
   "id": "68728bc5",
   "metadata": {},
   "outputs": [
    {
     "data": {
      "text/plain": [
       "array(['Shadow', 'Forestland', 'Maize', 'Sugarcane', 'Sunflower', 'Cloud',\n",
       "       'Waterbody', 'Grassland', 'Built', 'Fallow'], dtype=object)"
      ]
     },
     "execution_count": 15,
     "metadata": {},
     "output_type": "execute_result"
    }
   ],
   "source": [
    "#Display the unique Landcover classes names\n",
    "classes = training_vectors['name'].unique()\n",
    "classes"
   ]
  },
  {
   "cell_type": "code",
   "execution_count": 16,
   "id": "d1818e6b",
   "metadata": {},
   "outputs": [
    {
     "data": {
      "text/plain": [
       "{'Shadow': 0,\n",
       " 'Forestland': 1,\n",
       " 'Maize': 2,\n",
       " 'Sugarcane': 3,\n",
       " 'Sunflower': 4,\n",
       " 'Cloud': 5,\n",
       " 'Waterbody': 6,\n",
       " 'Grassland': 7,\n",
       " 'Built': 8,\n",
       " 'Fallow': 9}"
      ]
     },
     "execution_count": 16,
     "metadata": {},
     "output_type": "execute_result"
    }
   ],
   "source": [
    "# create a dictionary to convert lancover classes into integers for modeling\n",
    "# To create dictionary from two sequences\n",
    "class_dict = dict(zip(classes, range(len(classes))))\n",
    "class_dict "
   ]
  },
  {
   "cell_type": "code",
   "execution_count": 17,
   "id": "98d0c35f",
   "metadata": {},
   "outputs": [],
   "source": [
    "#Rasterize Geometries\n",
    "\n",
    "dst = rasterio.open('Trans_nzoia_2019_05-02.tif', 'r')\n",
    "\n",
    "#Create two empty lists\n",
    "#Independent and dependent variables\n",
    "X_raw = []\n",
    "y_raw = []\n",
    "\n",
    "for (label, geom) in zip(training_vectors.name, training_vectors.geometry):\n",
    "    \n",
    "    #Read the raster data matching the geometry bounds\n",
    "    window = bounds_window(geom.bounds, dst.transform)\n",
    "    #Store our windows information\n",
    "    window_affine = dst.window_transform(window)\n",
    "    frsc = dst.read(window=window)\n",
    "    \n",
    "    #Rasterize geometries\n",
    "    mask = rasterize([(geom,1)],\n",
    "                   out_shape=frsc.shape[1:],\n",
    "                   transform=window_affine,\n",
    "                   fill=0,\n",
    "                   dtype='uint8',\n",
    "                   all_touched=True,\n",
    "                   ).astype(bool)\n",
    "    \n",
    "    label_pixels = np.argwhere(mask)\n",
    "    \n",
    "    for (row, col) in label_pixels:\n",
    "        #add a pixel of data to X\n",
    "        data = frsc[:, row, col]\n",
    "        one_x = np.nan_to_num(data, nan = 1e-3)\n",
    "        X_raw.append(one_x)\n",
    "        #add the label to y\n",
    "        y_raw.append(class_dict[label])"
   ]
  },
  {
   "cell_type": "code",
   "execution_count": 18,
   "id": "e0ee11fb",
   "metadata": {},
   "outputs": [
    {
     "data": {
      "text/plain": [
       "((160461, 6), (160461,))"
      ]
     },
     "execution_count": 18,
     "metadata": {},
     "output_type": "execute_result"
    }
   ],
   "source": [
    "X = np.array(X_raw)\n",
    "y = np.array(y_raw)\n",
    "(X.shape, y.shape)"
   ]
  },
  {
   "cell_type": "code",
   "execution_count": 20,
   "id": "ad42629e",
   "metadata": {},
   "outputs": [
    {
     "data": {
      "text/plain": [
       "(160461, 8)"
      ]
     },
     "execution_count": 20,
     "metadata": {},
     "output_type": "execute_result"
    }
   ],
   "source": [
    "# helper function for calculating ND*I indices (bands in the final dimension)\n",
    "def band_index(arr, a, b):\n",
    "    return np.expand_dims((arr[..., a] - arr[..., b]) / (arr[..., a] + arr[..., b]), axis=1)\n",
    "\n",
    "ndvi = band_index(X, 3, 2)\n",
    "ndwi = band_index(X, 1, 3)\n",
    "\n",
    "X = np.concatenate([X, ndvi, ndwi], axis=1)\n",
    "X.shape"
   ]
  },
  {
   "cell_type": "code",
   "execution_count": 22,
   "id": "f31c6b57",
   "metadata": {},
   "outputs": [
    {
     "data": {
      "text/html": [
       "<div>\n",
       "<style scoped>\n",
       "    .dataframe tbody tr th:only-of-type {\n",
       "        vertical-align: middle;\n",
       "    }\n",
       "\n",
       "    .dataframe tbody tr th {\n",
       "        vertical-align: top;\n",
       "    }\n",
       "\n",
       "    .dataframe thead th {\n",
       "        text-align: right;\n",
       "    }\n",
       "</style>\n",
       "<table border=\"1\" class=\"dataframe\">\n",
       "  <thead>\n",
       "    <tr style=\"text-align: right;\">\n",
       "      <th></th>\n",
       "      <th>0</th>\n",
       "      <th>1</th>\n",
       "      <th>2</th>\n",
       "      <th>3</th>\n",
       "      <th>4</th>\n",
       "      <th>5</th>\n",
       "      <th>6</th>\n",
       "      <th>7</th>\n",
       "    </tr>\n",
       "  </thead>\n",
       "  <tbody>\n",
       "    <tr>\n",
       "      <th>0</th>\n",
       "      <td>0.0946</td>\n",
       "      <td>0.0921</td>\n",
       "      <td>0.10015</td>\n",
       "      <td>0.20350</td>\n",
       "      <td>0.25380</td>\n",
       "      <td>0.17655</td>\n",
       "      <td>0.340359</td>\n",
       "      <td>-0.376861</td>\n",
       "    </tr>\n",
       "    <tr>\n",
       "      <th>1</th>\n",
       "      <td>0.0958</td>\n",
       "      <td>0.0928</td>\n",
       "      <td>0.10310</td>\n",
       "      <td>0.20965</td>\n",
       "      <td>0.25585</td>\n",
       "      <td>0.17420</td>\n",
       "      <td>0.340687</td>\n",
       "      <td>-0.386345</td>\n",
       "    </tr>\n",
       "    <tr>\n",
       "      <th>2</th>\n",
       "      <td>0.0979</td>\n",
       "      <td>0.1022</td>\n",
       "      <td>0.11020</td>\n",
       "      <td>0.22000</td>\n",
       "      <td>0.25585</td>\n",
       "      <td>0.17420</td>\n",
       "      <td>0.332526</td>\n",
       "      <td>-0.365611</td>\n",
       "    </tr>\n",
       "    <tr>\n",
       "      <th>3</th>\n",
       "      <td>0.0941</td>\n",
       "      <td>0.0938</td>\n",
       "      <td>0.09850</td>\n",
       "      <td>0.21530</td>\n",
       "      <td>0.25915</td>\n",
       "      <td>0.17555</td>\n",
       "      <td>0.372212</td>\n",
       "      <td>-0.393077</td>\n",
       "    </tr>\n",
       "    <tr>\n",
       "      <th>4</th>\n",
       "      <td>0.0955</td>\n",
       "      <td>0.0949</td>\n",
       "      <td>0.09940</td>\n",
       "      <td>0.21595</td>\n",
       "      <td>0.25915</td>\n",
       "      <td>0.17555</td>\n",
       "      <td>0.369589</td>\n",
       "      <td>-0.389416</td>\n",
       "    </tr>\n",
       "  </tbody>\n",
       "</table>\n",
       "</div>"
      ],
      "text/plain": [
       "        0       1        2        3        4        5         6         7\n",
       "0  0.0946  0.0921  0.10015  0.20350  0.25380  0.17655  0.340359 -0.376861\n",
       "1  0.0958  0.0928  0.10310  0.20965  0.25585  0.17420  0.340687 -0.386345\n",
       "2  0.0979  0.1022  0.11020  0.22000  0.25585  0.17420  0.332526 -0.365611\n",
       "3  0.0941  0.0938  0.09850  0.21530  0.25915  0.17555  0.372212 -0.393077\n",
       "4  0.0955  0.0949  0.09940  0.21595  0.25915  0.17555  0.369589 -0.389416"
      ]
     },
     "execution_count": 22,
     "metadata": {},
     "output_type": "execute_result"
    }
   ],
   "source": [
    "#Create a Pandas Dataframe out of the independent and independent variables\n",
    "X = pd.DataFrame(X, dtype= 'float32')\n",
    "y = pd.DataFrame(y, dtype= 'float32')\n",
    "X.head()"
   ]
  },
  {
   "cell_type": "code",
   "execution_count": 24,
   "id": "38ced550",
   "metadata": {},
   "outputs": [],
   "source": [
    "# split the data into test and train sets\n",
    "X_train, X_test, y_train, y_test = train_test_split(X, y, test_size=0.3, random_state=42)"
   ]
  },
  {
   "cell_type": "code",
   "execution_count": 25,
   "id": "54be8c42",
   "metadata": {},
   "outputs": [
    {
     "data": {
      "text/plain": [
       "(array([[0.0000e+00, 3.5270e+03],\n",
       "        [1.0000e+00, 4.4389e+04],\n",
       "        [2.0000e+00, 5.5754e+04],\n",
       "        [3.0000e+00, 3.0820e+03],\n",
       "        [4.0000e+00, 1.7000e+01],\n",
       "        [5.0000e+00, 5.5000e+02],\n",
       "        [6.0000e+00, 2.8600e+02],\n",
       "        [7.0000e+00, 1.0580e+03],\n",
       "        [8.0000e+00, 1.8860e+03],\n",
       "        [9.0000e+00, 1.7730e+03]]),\n",
       " {0.0: 0.0002835270768358378,\n",
       "  1.0: 2.2528103809502354e-05,\n",
       "  2.0: 1.7935932847867417e-05,\n",
       "  3.0: 0.0003244646333549643,\n",
       "  4.0: 0.058823529411764705,\n",
       "  5.0: 0.0018181818181818182,\n",
       "  6.0: 0.0034965034965034965,\n",
       "  7.0: 0.000945179584120983,\n",
       "  8.0: 0.0005302226935312832,\n",
       "  9.0: 0.0005640157924421884})"
      ]
     },
     "execution_count": 25,
     "metadata": {},
     "output_type": "execute_result"
    }
   ],
   "source": [
    "# Calcualte class weights to allow for training on inbalanced training samples\n",
    "labels, counts = np.unique(y_train, return_counts=True)\n",
    "# Landcover classes and their corresponding frequencies.\n",
    "frequencies = np.asarray((labels, counts)).T\n",
    "class_weight_dict = dict(zip(labels, 1 / counts))\n",
    "(frequencies, class_weight_dict)"
   ]
  },
  {
   "cell_type": "code",
   "execution_count": 26,
   "id": "58ee1281",
   "metadata": {},
   "outputs": [],
   "source": [
    "# importing Algorithms to fit model and predict Output\n",
    "from sklearn.naive_bayes import GaussianNB\n",
    "from sklearn.neighbors import KNeighborsClassifier\n",
    "from sklearn.tree import DecisionTreeClassifier\n",
    "from sklearn.ensemble import RandomForestClassifier\n",
    "from sklearn.linear_model import LogisticRegression\n",
    "from sklearn.svm import SVC"
   ]
  },
  {
   "cell_type": "code",
   "execution_count": 27,
   "id": "455190f6",
   "metadata": {},
   "outputs": [],
   "source": [
    "# creating list of tuple wth model and its name  \n",
    "models = []\n",
    "models.append(('GNB',GaussianNB()))\n",
    "models.append(('KNN',KNeighborsClassifier()))\n",
    "models.append(('DT',DecisionTreeClassifier()))\n",
    "models.append(('RF',RandomForestClassifier()))\n",
    "models.append(('LG',LogisticRegression(max_iter=3000)))\n",
    "models.append(('SVC',SVC()))"
   ]
  },
  {
   "cell_type": "code",
   "execution_count": 38,
   "id": "cba89b0d",
   "metadata": {},
   "outputs": [
    {
     "name": "stderr",
     "output_type": "stream",
     "text": [
      "C:\\Users\\Abu Bakar\\Downloads\\WPy64-31020\\python-3.10.2.amd64\\lib\\site-packages\\sklearn\\utils\\validation.py:993: DataConversionWarning: A column-vector y was passed when a 1d array was expected. Please change the shape of y to (n_samples, ), for example using ravel().\n",
      "  y = column_or_1d(y, warn=True)\n",
      "C:\\Users\\Abu Bakar\\Downloads\\WPy64-31020\\python-3.10.2.amd64\\lib\\site-packages\\sklearn\\utils\\validation.py:993: DataConversionWarning: A column-vector y was passed when a 1d array was expected. Please change the shape of y to (n_samples, ), for example using ravel().\n",
      "  y = column_or_1d(y, warn=True)\n",
      "C:\\Users\\Abu Bakar\\Downloads\\WPy64-31020\\python-3.10.2.amd64\\lib\\site-packages\\sklearn\\utils\\validation.py:993: DataConversionWarning: A column-vector y was passed when a 1d array was expected. Please change the shape of y to (n_samples, ), for example using ravel().\n",
      "  y = column_or_1d(y, warn=True)\n",
      "C:\\Users\\Abu Bakar\\Downloads\\WPy64-31020\\python-3.10.2.amd64\\lib\\site-packages\\sklearn\\utils\\validation.py:993: DataConversionWarning: A column-vector y was passed when a 1d array was expected. Please change the shape of y to (n_samples, ), for example using ravel().\n",
      "  y = column_or_1d(y, warn=True)\n",
      "C:\\Users\\Abu Bakar\\Downloads\\WPy64-31020\\python-3.10.2.amd64\\lib\\site-packages\\sklearn\\utils\\validation.py:993: DataConversionWarning: A column-vector y was passed when a 1d array was expected. Please change the shape of y to (n_samples, ), for example using ravel().\n",
      "  y = column_or_1d(y, warn=True)\n",
      "C:\\Users\\Abu Bakar\\Downloads\\WPy64-31020\\python-3.10.2.amd64\\lib\\site-packages\\sklearn\\utils\\validation.py:993: DataConversionWarning: A column-vector y was passed when a 1d array was expected. Please change the shape of y to (n_samples, ), for example using ravel().\n",
      "  y = column_or_1d(y, warn=True)\n",
      "C:\\Users\\Abu Bakar\\Downloads\\WPy64-31020\\python-3.10.2.amd64\\lib\\site-packages\\sklearn\\utils\\validation.py:993: DataConversionWarning: A column-vector y was passed when a 1d array was expected. Please change the shape of y to (n_samples, ), for example using ravel().\n",
      "  y = column_or_1d(y, warn=True)\n",
      "C:\\Users\\Abu Bakar\\Downloads\\WPy64-31020\\python-3.10.2.amd64\\lib\\site-packages\\sklearn\\utils\\validation.py:993: DataConversionWarning: A column-vector y was passed when a 1d array was expected. Please change the shape of y to (n_samples, ), for example using ravel().\n",
      "  y = column_or_1d(y, warn=True)\n",
      "C:\\Users\\Abu Bakar\\Downloads\\WPy64-31020\\python-3.10.2.amd64\\lib\\site-packages\\sklearn\\utils\\validation.py:993: DataConversionWarning: A column-vector y was passed when a 1d array was expected. Please change the shape of y to (n_samples, ), for example using ravel().\n",
      "  y = column_or_1d(y, warn=True)\n",
      "C:\\Users\\Abu Bakar\\Downloads\\WPy64-31020\\python-3.10.2.amd64\\lib\\site-packages\\sklearn\\utils\\validation.py:993: DataConversionWarning: A column-vector y was passed when a 1d array was expected. Please change the shape of y to (n_samples, ), for example using ravel().\n",
      "  y = column_or_1d(y, warn=True)\n"
     ]
    },
    {
     "name": "stdout",
     "output_type": "stream",
     "text": [
      "GNB: 0.419928\n"
     ]
    },
    {
     "name": "stderr",
     "output_type": "stream",
     "text": [
      "C:\\Users\\Abu Bakar\\Downloads\\WPy64-31020\\python-3.10.2.amd64\\lib\\site-packages\\sklearn\\neighbors\\_classification.py:198: DataConversionWarning: A column-vector y was passed when a 1d array was expected. Please change the shape of y to (n_samples,), for example using ravel().\n",
      "  return self._fit(X, y)\n",
      "C:\\Users\\Abu Bakar\\Downloads\\WPy64-31020\\python-3.10.2.amd64\\lib\\site-packages\\sklearn\\neighbors\\_classification.py:198: DataConversionWarning: A column-vector y was passed when a 1d array was expected. Please change the shape of y to (n_samples,), for example using ravel().\n",
      "  return self._fit(X, y)\n",
      "C:\\Users\\Abu Bakar\\Downloads\\WPy64-31020\\python-3.10.2.amd64\\lib\\site-packages\\sklearn\\neighbors\\_classification.py:198: DataConversionWarning: A column-vector y was passed when a 1d array was expected. Please change the shape of y to (n_samples,), for example using ravel().\n",
      "  return self._fit(X, y)\n",
      "C:\\Users\\Abu Bakar\\Downloads\\WPy64-31020\\python-3.10.2.amd64\\lib\\site-packages\\sklearn\\neighbors\\_classification.py:198: DataConversionWarning: A column-vector y was passed when a 1d array was expected. Please change the shape of y to (n_samples,), for example using ravel().\n",
      "  return self._fit(X, y)\n",
      "C:\\Users\\Abu Bakar\\Downloads\\WPy64-31020\\python-3.10.2.amd64\\lib\\site-packages\\sklearn\\neighbors\\_classification.py:198: DataConversionWarning: A column-vector y was passed when a 1d array was expected. Please change the shape of y to (n_samples,), for example using ravel().\n",
      "  return self._fit(X, y)\n",
      "C:\\Users\\Abu Bakar\\Downloads\\WPy64-31020\\python-3.10.2.amd64\\lib\\site-packages\\sklearn\\neighbors\\_classification.py:198: DataConversionWarning: A column-vector y was passed when a 1d array was expected. Please change the shape of y to (n_samples,), for example using ravel().\n",
      "  return self._fit(X, y)\n",
      "C:\\Users\\Abu Bakar\\Downloads\\WPy64-31020\\python-3.10.2.amd64\\lib\\site-packages\\sklearn\\neighbors\\_classification.py:198: DataConversionWarning: A column-vector y was passed when a 1d array was expected. Please change the shape of y to (n_samples,), for example using ravel().\n",
      "  return self._fit(X, y)\n",
      "C:\\Users\\Abu Bakar\\Downloads\\WPy64-31020\\python-3.10.2.amd64\\lib\\site-packages\\sklearn\\neighbors\\_classification.py:198: DataConversionWarning: A column-vector y was passed when a 1d array was expected. Please change the shape of y to (n_samples,), for example using ravel().\n",
      "  return self._fit(X, y)\n",
      "C:\\Users\\Abu Bakar\\Downloads\\WPy64-31020\\python-3.10.2.amd64\\lib\\site-packages\\sklearn\\neighbors\\_classification.py:198: DataConversionWarning: A column-vector y was passed when a 1d array was expected. Please change the shape of y to (n_samples,), for example using ravel().\n",
      "  return self._fit(X, y)\n",
      "C:\\Users\\Abu Bakar\\Downloads\\WPy64-31020\\python-3.10.2.amd64\\lib\\site-packages\\sklearn\\neighbors\\_classification.py:198: DataConversionWarning: A column-vector y was passed when a 1d array was expected. Please change the shape of y to (n_samples,), for example using ravel().\n",
      "  return self._fit(X, y)\n"
     ]
    },
    {
     "name": "stdout",
     "output_type": "stream",
     "text": [
      "KNN: 0.723389\n",
      "DT: 0.701039\n"
     ]
    },
    {
     "name": "stderr",
     "output_type": "stream",
     "text": [
      "C:\\Users\\Abu Bakar\\Downloads\\WPy64-31020\\python-3.10.2.amd64\\lib\\site-packages\\sklearn\\model_selection\\_validation.py:680: DataConversionWarning: A column-vector y was passed when a 1d array was expected. Please change the shape of y to (n_samples,), for example using ravel().\n",
      "  estimator.fit(X_train, y_train, **fit_params)\n",
      "C:\\Users\\Abu Bakar\\Downloads\\WPy64-31020\\python-3.10.2.amd64\\lib\\site-packages\\sklearn\\model_selection\\_validation.py:680: DataConversionWarning: A column-vector y was passed when a 1d array was expected. Please change the shape of y to (n_samples,), for example using ravel().\n",
      "  estimator.fit(X_train, y_train, **fit_params)\n",
      "C:\\Users\\Abu Bakar\\Downloads\\WPy64-31020\\python-3.10.2.amd64\\lib\\site-packages\\sklearn\\model_selection\\_validation.py:680: DataConversionWarning: A column-vector y was passed when a 1d array was expected. Please change the shape of y to (n_samples,), for example using ravel().\n",
      "  estimator.fit(X_train, y_train, **fit_params)\n",
      "C:\\Users\\Abu Bakar\\Downloads\\WPy64-31020\\python-3.10.2.amd64\\lib\\site-packages\\sklearn\\model_selection\\_validation.py:680: DataConversionWarning: A column-vector y was passed when a 1d array was expected. Please change the shape of y to (n_samples,), for example using ravel().\n",
      "  estimator.fit(X_train, y_train, **fit_params)\n",
      "C:\\Users\\Abu Bakar\\Downloads\\WPy64-31020\\python-3.10.2.amd64\\lib\\site-packages\\sklearn\\model_selection\\_validation.py:680: DataConversionWarning: A column-vector y was passed when a 1d array was expected. Please change the shape of y to (n_samples,), for example using ravel().\n",
      "  estimator.fit(X_train, y_train, **fit_params)\n",
      "C:\\Users\\Abu Bakar\\Downloads\\WPy64-31020\\python-3.10.2.amd64\\lib\\site-packages\\sklearn\\model_selection\\_validation.py:680: DataConversionWarning: A column-vector y was passed when a 1d array was expected. Please change the shape of y to (n_samples,), for example using ravel().\n",
      "  estimator.fit(X_train, y_train, **fit_params)\n",
      "C:\\Users\\Abu Bakar\\Downloads\\WPy64-31020\\python-3.10.2.amd64\\lib\\site-packages\\sklearn\\model_selection\\_validation.py:680: DataConversionWarning: A column-vector y was passed when a 1d array was expected. Please change the shape of y to (n_samples,), for example using ravel().\n",
      "  estimator.fit(X_train, y_train, **fit_params)\n",
      "C:\\Users\\Abu Bakar\\Downloads\\WPy64-31020\\python-3.10.2.amd64\\lib\\site-packages\\sklearn\\model_selection\\_validation.py:680: DataConversionWarning: A column-vector y was passed when a 1d array was expected. Please change the shape of y to (n_samples,), for example using ravel().\n",
      "  estimator.fit(X_train, y_train, **fit_params)\n",
      "C:\\Users\\Abu Bakar\\Downloads\\WPy64-31020\\python-3.10.2.amd64\\lib\\site-packages\\sklearn\\model_selection\\_validation.py:680: DataConversionWarning: A column-vector y was passed when a 1d array was expected. Please change the shape of y to (n_samples,), for example using ravel().\n",
      "  estimator.fit(X_train, y_train, **fit_params)\n",
      "C:\\Users\\Abu Bakar\\Downloads\\WPy64-31020\\python-3.10.2.amd64\\lib\\site-packages\\sklearn\\model_selection\\_validation.py:680: DataConversionWarning: A column-vector y was passed when a 1d array was expected. Please change the shape of y to (n_samples,), for example using ravel().\n",
      "  estimator.fit(X_train, y_train, **fit_params)\n"
     ]
    },
    {
     "name": "stdout",
     "output_type": "stream",
     "text": [
      "RF: 0.751935\n"
     ]
    },
    {
     "name": "stderr",
     "output_type": "stream",
     "text": [
      "C:\\Users\\Abu Bakar\\Downloads\\WPy64-31020\\python-3.10.2.amd64\\lib\\site-packages\\sklearn\\utils\\validation.py:993: DataConversionWarning: A column-vector y was passed when a 1d array was expected. Please change the shape of y to (n_samples, ), for example using ravel().\n",
      "  y = column_or_1d(y, warn=True)\n",
      "C:\\Users\\Abu Bakar\\Downloads\\WPy64-31020\\python-3.10.2.amd64\\lib\\site-packages\\sklearn\\utils\\validation.py:993: DataConversionWarning: A column-vector y was passed when a 1d array was expected. Please change the shape of y to (n_samples, ), for example using ravel().\n",
      "  y = column_or_1d(y, warn=True)\n",
      "C:\\Users\\Abu Bakar\\Downloads\\WPy64-31020\\python-3.10.2.amd64\\lib\\site-packages\\sklearn\\utils\\validation.py:993: DataConversionWarning: A column-vector y was passed when a 1d array was expected. Please change the shape of y to (n_samples, ), for example using ravel().\n",
      "  y = column_or_1d(y, warn=True)\n",
      "C:\\Users\\Abu Bakar\\Downloads\\WPy64-31020\\python-3.10.2.amd64\\lib\\site-packages\\sklearn\\utils\\validation.py:993: DataConversionWarning: A column-vector y was passed when a 1d array was expected. Please change the shape of y to (n_samples, ), for example using ravel().\n",
      "  y = column_or_1d(y, warn=True)\n",
      "C:\\Users\\Abu Bakar\\Downloads\\WPy64-31020\\python-3.10.2.amd64\\lib\\site-packages\\sklearn\\utils\\validation.py:993: DataConversionWarning: A column-vector y was passed when a 1d array was expected. Please change the shape of y to (n_samples, ), for example using ravel().\n",
      "  y = column_or_1d(y, warn=True)\n",
      "C:\\Users\\Abu Bakar\\Downloads\\WPy64-31020\\python-3.10.2.amd64\\lib\\site-packages\\sklearn\\utils\\validation.py:993: DataConversionWarning: A column-vector y was passed when a 1d array was expected. Please change the shape of y to (n_samples, ), for example using ravel().\n",
      "  y = column_or_1d(y, warn=True)\n",
      "C:\\Users\\Abu Bakar\\Downloads\\WPy64-31020\\python-3.10.2.amd64\\lib\\site-packages\\sklearn\\utils\\validation.py:993: DataConversionWarning: A column-vector y was passed when a 1d array was expected. Please change the shape of y to (n_samples, ), for example using ravel().\n",
      "  y = column_or_1d(y, warn=True)\n",
      "C:\\Users\\Abu Bakar\\Downloads\\WPy64-31020\\python-3.10.2.amd64\\lib\\site-packages\\sklearn\\utils\\validation.py:993: DataConversionWarning: A column-vector y was passed when a 1d array was expected. Please change the shape of y to (n_samples, ), for example using ravel().\n",
      "  y = column_or_1d(y, warn=True)\n",
      "C:\\Users\\Abu Bakar\\Downloads\\WPy64-31020\\python-3.10.2.amd64\\lib\\site-packages\\sklearn\\utils\\validation.py:993: DataConversionWarning: A column-vector y was passed when a 1d array was expected. Please change the shape of y to (n_samples, ), for example using ravel().\n",
      "  y = column_or_1d(y, warn=True)\n",
      "C:\\Users\\Abu Bakar\\Downloads\\WPy64-31020\\python-3.10.2.amd64\\lib\\site-packages\\sklearn\\utils\\validation.py:993: DataConversionWarning: A column-vector y was passed when a 1d array was expected. Please change the shape of y to (n_samples, ), for example using ravel().\n",
      "  y = column_or_1d(y, warn=True)\n"
     ]
    },
    {
     "name": "stdout",
     "output_type": "stream",
     "text": [
      "LG: 0.307580\n"
     ]
    },
    {
     "name": "stderr",
     "output_type": "stream",
     "text": [
      "C:\\Users\\Abu Bakar\\Downloads\\WPy64-31020\\python-3.10.2.amd64\\lib\\site-packages\\sklearn\\utils\\validation.py:993: DataConversionWarning: A column-vector y was passed when a 1d array was expected. Please change the shape of y to (n_samples, ), for example using ravel().\n",
      "  y = column_or_1d(y, warn=True)\n",
      "C:\\Users\\Abu Bakar\\Downloads\\WPy64-31020\\python-3.10.2.amd64\\lib\\site-packages\\sklearn\\utils\\validation.py:993: DataConversionWarning: A column-vector y was passed when a 1d array was expected. Please change the shape of y to (n_samples, ), for example using ravel().\n",
      "  y = column_or_1d(y, warn=True)\n",
      "C:\\Users\\Abu Bakar\\Downloads\\WPy64-31020\\python-3.10.2.amd64\\lib\\site-packages\\sklearn\\utils\\validation.py:993: DataConversionWarning: A column-vector y was passed when a 1d array was expected. Please change the shape of y to (n_samples, ), for example using ravel().\n",
      "  y = column_or_1d(y, warn=True)\n",
      "C:\\Users\\Abu Bakar\\Downloads\\WPy64-31020\\python-3.10.2.amd64\\lib\\site-packages\\sklearn\\utils\\validation.py:993: DataConversionWarning: A column-vector y was passed when a 1d array was expected. Please change the shape of y to (n_samples, ), for example using ravel().\n",
      "  y = column_or_1d(y, warn=True)\n",
      "C:\\Users\\Abu Bakar\\Downloads\\WPy64-31020\\python-3.10.2.amd64\\lib\\site-packages\\sklearn\\utils\\validation.py:993: DataConversionWarning: A column-vector y was passed when a 1d array was expected. Please change the shape of y to (n_samples, ), for example using ravel().\n",
      "  y = column_or_1d(y, warn=True)\n",
      "C:\\Users\\Abu Bakar\\Downloads\\WPy64-31020\\python-3.10.2.amd64\\lib\\site-packages\\sklearn\\utils\\validation.py:993: DataConversionWarning: A column-vector y was passed when a 1d array was expected. Please change the shape of y to (n_samples, ), for example using ravel().\n",
      "  y = column_or_1d(y, warn=True)\n",
      "C:\\Users\\Abu Bakar\\Downloads\\WPy64-31020\\python-3.10.2.amd64\\lib\\site-packages\\sklearn\\utils\\validation.py:993: DataConversionWarning: A column-vector y was passed when a 1d array was expected. Please change the shape of y to (n_samples, ), for example using ravel().\n",
      "  y = column_or_1d(y, warn=True)\n",
      "C:\\Users\\Abu Bakar\\Downloads\\WPy64-31020\\python-3.10.2.amd64\\lib\\site-packages\\sklearn\\utils\\validation.py:993: DataConversionWarning: A column-vector y was passed when a 1d array was expected. Please change the shape of y to (n_samples, ), for example using ravel().\n",
      "  y = column_or_1d(y, warn=True)\n",
      "C:\\Users\\Abu Bakar\\Downloads\\WPy64-31020\\python-3.10.2.amd64\\lib\\site-packages\\sklearn\\utils\\validation.py:993: DataConversionWarning: A column-vector y was passed when a 1d array was expected. Please change the shape of y to (n_samples, ), for example using ravel().\n",
      "  y = column_or_1d(y, warn=True)\n",
      "C:\\Users\\Abu Bakar\\Downloads\\WPy64-31020\\python-3.10.2.amd64\\lib\\site-packages\\sklearn\\utils\\validation.py:993: DataConversionWarning: A column-vector y was passed when a 1d array was expected. Please change the shape of y to (n_samples, ), for example using ravel().\n",
      "  y = column_or_1d(y, warn=True)\n"
     ]
    },
    {
     "name": "stdout",
     "output_type": "stream",
     "text": [
      "SVC: 0.357958\n"
     ]
    }
   ],
   "source": [
    "from sklearn.model_selection import cross_val_score\n",
    "\n",
    "acc = []   # list for collecting Accuracy of all model\n",
    "names = []    # List of model name\n",
    "\n",
    "for name, model in models:\n",
    "    acc_of_model = cross_val_score(model, X_train, y_train, cv=10, scoring='f1_macro')\n",
    "    # appending F1_Scores of different model to acc List\n",
    "    acc.append(acc_of_model)\n",
    "    # appending name of models\n",
    "    names.append(name)\n",
    "    # printing Output \n",
    "    Out = \"%s: %f\" % (name, acc_of_model.mean())\n",
    "    print(Out)"
   ]
  },
  {
   "cell_type": "code",
   "execution_count": 28,
   "id": "e7421531",
   "metadata": {},
   "outputs": [
    {
     "name": "stderr",
     "output_type": "stream",
     "text": [
      "C:\\Users\\Abu Bakar\\AppData\\Local\\Temp\\ipykernel_4032\\148201180.py:4: DataConversionWarning: A column-vector y was passed when a 1d array was expected. Please change the shape of y to (n_samples,), for example using ravel().\n",
      "  RF.fit(X_train, y_train)\n",
      "[Parallel(n_jobs=-1)]: Using backend ThreadingBackend with 12 concurrent workers.\n",
      "[Parallel(n_jobs=-1)]: Done  26 tasks      | elapsed:    0.8s\n",
      "[Parallel(n_jobs=-1)]: Done 176 tasks      | elapsed:    3.6s\n",
      "[Parallel(n_jobs=-1)]: Done 200 out of 200 | elapsed:    4.0s finished\n"
     ]
    },
    {
     "data": {
      "text/plain": [
       "RandomForestClassifier(class_weight={0.0: 0.0002835270768358378,\n",
       "                                     1.0: 2.2528103809502354e-05,\n",
       "                                     2.0: 1.7935932847867417e-05,\n",
       "                                     3.0: 0.0003244646333549643,\n",
       "                                     4.0: 0.058823529411764705,\n",
       "                                     5.0: 0.0018181818181818182,\n",
       "                                     6.0: 0.0034965034965034965,\n",
       "                                     7.0: 0.000945179584120983,\n",
       "                                     8.0: 0.0005302226935312832,\n",
       "                                     9.0: 0.0005640157924421884},\n",
       "                       max_depth=6, n_estimators=200, n_jobs=-1, random_state=0,\n",
       "                       verbose=1)"
      ]
     },
     "execution_count": 28,
     "metadata": {},
     "output_type": "execute_result"
    }
   ],
   "source": [
    "#Random Forest provides highest prediction accuracy\n",
    "# initialize a RandomForestClassifier\n",
    "RF = RandomForestClassifier(n_estimators=200, class_weight=class_weight_dict, max_depth=6, n_jobs=-1, verbose=1, random_state=0)\n",
    "RF.fit(X_train, y_train)"
   ]
  },
  {
   "cell_type": "code",
   "execution_count": 29,
   "id": "52998b6f",
   "metadata": {},
   "outputs": [
    {
     "name": "stderr",
     "output_type": "stream",
     "text": [
      "[Parallel(n_jobs=12)]: Using backend ThreadingBackend with 12 concurrent workers.\n",
      "[Parallel(n_jobs=12)]: Done  26 tasks      | elapsed:    0.0s\n",
      "[Parallel(n_jobs=12)]: Done 176 tasks      | elapsed:    0.2s\n",
      "[Parallel(n_jobs=12)]: Done 200 out of 200 | elapsed:    0.2s finished\n"
     ]
    }
   ],
   "source": [
    "y_pred = RF.predict(X_test)\n",
    "cm = confusion_matrix(y_test, y_pred, labels=labels)"
   ]
  },
  {
   "cell_type": "code",
   "execution_count": 30,
   "id": "735b1010",
   "metadata": {},
   "outputs": [
    {
     "data": {
      "image/png": "[encoded data removed]",
      "text/plain": [
       "<Figure size 720x720 with 2 Axes>"
      ]
     },
     "metadata": {
      "needs_background": "light"
     },
     "output_type": "display_data"
    }
   ],
   "source": [
    "# plot the confusion matrix\n",
    "%matplotlib inline\n",
    "cm = cm.astype('float') / cm.sum(axis=1)[:, np.newaxis]\n",
    "fig, ax = plt.subplots(figsize=(10, 10))\n",
    "im = ax.imshow(cm, interpolation='nearest', cmap=plt.cm.Blues)\n",
    "ax.figure.colorbar(im, ax=ax)\n",
    "\n",
    "# We want to show all ticks...\n",
    "ax.set(xticks=np.arange(cm.shape[1]),\n",
    "       yticks=np.arange(cm.shape[0]),\n",
    "       # ... and label them with the respective list entries\n",
    "       xticklabels=classes, yticklabels=classes,\n",
    "       title='Normalized Confusion Matrix',\n",
    "       ylabel='True label',\n",
    "       xlabel='Predicted label')\n",
    "\n",
    "# Rotate the tick labels and set their alignment.\n",
    "plt.setp(ax.get_xticklabels(), rotation=45, ha=\"right\",\n",
    "         rotation_mode=\"anchor\")\n",
    "\n",
    "# Loop over data dimensions and create text annotations.\n",
    "fmt = '.2f'\n",
    "thresh = cm.max() / 2.\n",
    "for i in range(cm.shape[0]):\n",
    "    for j in range(cm.shape[1]):\n",
    "        ax.text(j, i, format(cm[i, j], fmt),\n",
    "                ha=\"center\", va=\"center\",\n",
    "                color=\"white\" if cm[i, j] > thresh else \"black\")\n",
    "fig.tight_layout()"
   ]
  },
  {
   "cell_type": "code",
   "execution_count": 31,
   "id": "a97873e0",
   "metadata": {},
   "outputs": [],
   "source": [
    "# save the trained model as pickle file\n",
    "model_name = 'random_forest.sav'\n",
    "with open(model_name, 'wb') as modelfile:\n",
    "    pickle.dump(RF, modelfile)"
   ]
  },
  {
   "cell_type": "markdown",
   "id": "b3d83733",
   "metadata": {},
   "source": [
    "## Inference"
   ]
  },
  {
   "cell_type": "code",
   "execution_count": 39,
   "id": "b1316e70",
   "metadata": {},
   "outputs": [],
   "source": [
    "#User define Function to save the Geotiff\n",
    "def createGeotiff(outRaster, estimation_array, geo_transform, projection):\n",
    "    driver = gdal.GetDriverByName('GTIFF')\n",
    "    rows, cols = estimation_array.shape\n",
    "    rasterDS = driver.Create(outRaster, cols, rows, 1, gdal.GDT_Float32)\n",
    "    rasterDS.SetGeoTransform(geo_transform)\n",
    "    rasterDS.SetProjection(projection)\n",
    "    band = rasterDS.GetRasterBand(1)\n",
    "    band.WriteArray(estimation_array)\n",
    "    rasterDS= None"
   ]
  },
  {
   "cell_type": "code",
   "execution_count": 2,
   "id": "e36e2c61",
   "metadata": {},
   "outputs": [
    {
     "name": "stdout",
     "output_type": "stream",
     "text": [
      "No of Bands = 6\n",
      "CRS Projection = EPSG:4326\n",
      "Dataset Indexes =  (1, 2, 3, 4, 5, 6)\n"
     ]
    }
   ],
   "source": [
    "# To apply the model on the whole raster\n",
    "with rasterio.open('Trans_nzoia_2019_05-02.tif', 'r') as dataset:\n",
    "    profile = dataset.profile\n",
    "    bands_read = dataset.read(masked = True)\n",
    "    band = np.array(bands_read, dtype='float32')\n",
    "    \n",
    "print('No of Bands =', dataset.count)\n",
    "print('CRS Projection =', dataset.crs)\n",
    "print('Dataset Indexes = ', dataset.indexes)"
   ]
  },
  {
   "cell_type": "code",
   "execution_count": 42,
   "id": "b4054ff5",
   "metadata": {},
   "outputs": [
    {
     "ename": "AttributeError",
     "evalue": "'DatasetReader' object has no attribute 'GetGeoTransform'",
     "output_type": "error",
     "traceback": [
      "\u001b[1;31m---------------------------------------------------------------------------\u001b[0m",
      "\u001b[1;31mAttributeError\u001b[0m                            Traceback (most recent call last)",
      "\u001b[1;32m~\\AppData\\Local\\Temp\\ipykernel_24928\\2283122414.py\u001b[0m in \u001b[0;36m<module>\u001b[1;34m\u001b[0m\n\u001b[1;32m----> 1\u001b[1;33m \u001b[0mgeo_transform\u001b[0m \u001b[1;33m=\u001b[0m \u001b[0mdataset\u001b[0m\u001b[1;33m.\u001b[0m\u001b[0mGetGeoTransform\u001b[0m\u001b[1;33m(\u001b[0m\u001b[1;33m)\u001b[0m\u001b[1;33m\u001b[0m\u001b[1;33m\u001b[0m\u001b[0m\n\u001b[0m\u001b[0;32m      2\u001b[0m \u001b[0mprojection\u001b[0m \u001b[1;33m=\u001b[0m \u001b[0mdataset\u001b[0m\u001b[1;33m.\u001b[0m\u001b[0mGetProjectionRef\u001b[0m\u001b[1;33m(\u001b[0m\u001b[1;33m)\u001b[0m\u001b[1;33m\u001b[0m\u001b[1;33m\u001b[0m\u001b[0m\n",
      "\u001b[1;31mAttributeError\u001b[0m: 'DatasetReader' object has no attribute 'GetGeoTransform'"
     ]
    }
   ],
   "source": [
    "geo_transform = dataset.GetGeoTransform()\n",
    "projection = dataset.GetProjectionRef()"
   ]
  },
  {
   "cell_type": "code",
   "execution_count": 19,
   "id": "e52806fe",
   "metadata": {},
   "outputs": [
    {
     "data": {
      "text/plain": [
       "(5343, 8671)"
      ]
     },
     "execution_count": 19,
     "metadata": {},
     "output_type": "execute_result"
    }
   ],
   "source": [
    "(dataset.height, dataset.width)"
   ]
  },
  {
   "cell_type": "code",
   "execution_count": 4,
   "id": "0776f80f",
   "metadata": {},
   "outputs": [],
   "source": [
    "# Calcualte the two vegetation indices\n",
    "# NDVI (NIR - Red) / (NIR + Red)\n",
    "NDVI = (band[3].astype('float32') - band[2].astype('float32')) / (band[3] + band[2])\n",
    "NDWI = (band[1].astype('float32') - band[3].astype('float32')) / (band[1] + band[3])"
   ]
  },
  {
   "cell_type": "code",
   "execution_count": 7,
   "id": "feeddad2",
   "metadata": {},
   "outputs": [
    {
     "data": {
      "text/plain": [
       "(6, 5343, 8671)"
      ]
     },
     "execution_count": 7,
     "metadata": {},
     "output_type": "execute_result"
    }
   ],
   "source": [
    "band.shape"
   ]
  },
  {
   "cell_type": "code",
   "execution_count": 8,
   "id": "f40197f7",
   "metadata": {},
   "outputs": [
    {
     "data": {
      "text/plain": [
       "(5343, 8671, 6)"
      ]
     },
     "execution_count": 8,
     "metadata": {},
     "output_type": "execute_result"
    }
   ],
   "source": [
    "array = np.stack(band[:,:,:], axis= 2)\n",
    "array.shape"
   ]
  },
  {
   "cell_type": "code",
   "execution_count": 9,
   "id": "90065da0",
   "metadata": {},
   "outputs": [
    {
     "data": {
      "text/plain": [
       "(46329153, 6)"
      ]
     },
     "execution_count": 9,
     "metadata": {},
     "output_type": "execute_result"
    }
   ],
   "source": [
    "#Remember: we need a 2D array of size [n_samples x n_features] for Sk-learn\n",
    "#Convert the 3d stack array into 2D\n",
    "array = np.reshape(array, [dataset.height*dataset.width, dataset.count])\n",
    "array.shape"
   ]
  },
  {
   "cell_type": "code",
   "execution_count": 10,
   "id": "eccc5f53",
   "metadata": {},
   "outputs": [
    {
     "data": {
      "text/plain": [
       "((46329153, 1), (46329153, 1))"
      ]
     },
     "execution_count": 10,
     "metadata": {},
     "output_type": "execute_result"
    }
   ],
   "source": [
    "arr_NDVI = np.reshape(NDVI, [dataset.height*dataset.width, 1])\n",
    "arr_NDWI = np.reshape(NDWI, [dataset.height*dataset.width, 1])\n",
    "(arr_NDVI.shape, arr_NDWI.shape)"
   ]
  },
  {
   "cell_type": "code",
   "execution_count": 11,
   "id": "c2d16255",
   "metadata": {},
   "outputs": [
    {
     "data": {
      "text/plain": [
       "(46329153, 8)"
      ]
     },
     "execution_count": 11,
     "metadata": {},
     "output_type": "execute_result"
    }
   ],
   "source": [
    "al = np.concatenate([array, arr_NDVI, arr_NDWI], axis=1)\n",
    "al.shape"
   ]
  },
  {
   "cell_type": "code",
   "execution_count": 12,
   "id": "5f511770",
   "metadata": {},
   "outputs": [],
   "source": [
    "#Remove no datavalues\n",
    "m = np.ma.masked_invalid(al)\n",
    "to_predict = al[~m.mask].reshape(-1, al.shape[-1])"
   ]
  },
  {
   "cell_type": "code",
   "execution_count": 13,
   "id": "bc327f2f",
   "metadata": {},
   "outputs": [
    {
     "data": {
      "text/plain": [
       "(24973531, 8)"
      ]
     },
     "execution_count": 13,
     "metadata": {},
     "output_type": "execute_result"
    }
   ],
   "source": [
    "to_predict.shape"
   ]
  },
  {
   "cell_type": "code",
   "execution_count": 14,
   "id": "f2cbdf36",
   "metadata": {},
   "outputs": [
    {
     "data": {
      "text/html": [
       "<div>\n",
       "<style scoped>\n",
       "    .dataframe tbody tr th:only-of-type {\n",
       "        vertical-align: middle;\n",
       "    }\n",
       "\n",
       "    .dataframe tbody tr th {\n",
       "        vertical-align: top;\n",
       "    }\n",
       "\n",
       "    .dataframe thead th {\n",
       "        text-align: right;\n",
       "    }\n",
       "</style>\n",
       "<table border=\"1\" class=\"dataframe\">\n",
       "  <thead>\n",
       "    <tr style=\"text-align: right;\">\n",
       "      <th></th>\n",
       "      <th>0</th>\n",
       "      <th>1</th>\n",
       "      <th>2</th>\n",
       "      <th>3</th>\n",
       "      <th>4</th>\n",
       "      <th>5</th>\n",
       "      <th>6</th>\n",
       "      <th>7</th>\n",
       "    </tr>\n",
       "  </thead>\n",
       "  <tbody>\n",
       "    <tr>\n",
       "      <th>0</th>\n",
       "      <td>0.1004</td>\n",
       "      <td>0.1078</td>\n",
       "      <td>0.1201</td>\n",
       "      <td>0.2355</td>\n",
       "      <td>0.3028</td>\n",
       "      <td>0.2151</td>\n",
       "      <td>0.324522</td>\n",
       "      <td>-0.371978</td>\n",
       "    </tr>\n",
       "    <tr>\n",
       "      <th>1</th>\n",
       "      <td>0.0950</td>\n",
       "      <td>0.0975</td>\n",
       "      <td>0.0947</td>\n",
       "      <td>0.2242</td>\n",
       "      <td>0.2911</td>\n",
       "      <td>0.2115</td>\n",
       "      <td>0.406083</td>\n",
       "      <td>-0.393845</td>\n",
       "    </tr>\n",
       "    <tr>\n",
       "      <th>2</th>\n",
       "      <td>0.0983</td>\n",
       "      <td>0.1063</td>\n",
       "      <td>0.1097</td>\n",
       "      <td>0.2176</td>\n",
       "      <td>0.2911</td>\n",
       "      <td>0.2115</td>\n",
       "      <td>0.329667</td>\n",
       "      <td>-0.343625</td>\n",
       "    </tr>\n",
       "    <tr>\n",
       "      <th>3</th>\n",
       "      <td>0.1035</td>\n",
       "      <td>0.1078</td>\n",
       "      <td>0.1195</td>\n",
       "      <td>0.2489</td>\n",
       "      <td>0.3249</td>\n",
       "      <td>0.2319</td>\n",
       "      <td>0.351249</td>\n",
       "      <td>-0.395570</td>\n",
       "    </tr>\n",
       "    <tr>\n",
       "      <th>4</th>\n",
       "      <td>0.1058</td>\n",
       "      <td>0.1105</td>\n",
       "      <td>0.1270</td>\n",
       "      <td>0.2436</td>\n",
       "      <td>0.3200</td>\n",
       "      <td>0.2295</td>\n",
       "      <td>0.314625</td>\n",
       "      <td>-0.375883</td>\n",
       "    </tr>\n",
       "  </tbody>\n",
       "</table>\n",
       "</div>"
      ],
      "text/plain": [
       "        0       1       2       3       4       5         6         7\n",
       "0  0.1004  0.1078  0.1201  0.2355  0.3028  0.2151  0.324522 -0.371978\n",
       "1  0.0950  0.0975  0.0947  0.2242  0.2911  0.2115  0.406083 -0.393845\n",
       "2  0.0983  0.1063  0.1097  0.2176  0.2911  0.2115  0.329667 -0.343625\n",
       "3  0.1035  0.1078  0.1195  0.2489  0.3249  0.2319  0.351249 -0.395570\n",
       "4  0.1058  0.1105  0.1270  0.2436  0.3200  0.2295  0.314625 -0.375883"
      ]
     },
     "execution_count": 14,
     "metadata": {},
     "output_type": "execute_result"
    }
   ],
   "source": [
    "#Create a pandas dataframe\n",
    "test = pd.DataFrame(to_predict, dtype= 'float32')\n",
    "test.head()"
   ]
  },
  {
   "cell_type": "code",
   "execution_count": 15,
   "id": "d2bcb64d",
   "metadata": {},
   "outputs": [
    {
     "name": "stderr",
     "output_type": "stream",
     "text": [
      "[Parallel(n_jobs=12)]: Using backend ThreadingBackend with 12 concurrent workers.\n",
      "[Parallel(n_jobs=12)]: Done  26 tasks      | elapsed:  6.5min\n",
      "[Parallel(n_jobs=12)]: Done 176 tasks      | elapsed: 30.9min\n",
      "[Parallel(n_jobs=12)]: Done 200 out of 200 | elapsed: 33.4min finished\n"
     ]
    }
   ],
   "source": [
    "#Load the saved model\n",
    "RF = pickle.load(open('random_forest.sav', 'rb'))\n",
    "pred = RF.predict(test)"
   ]
  },
  {
   "cell_type": "code",
   "execution_count": 35,
   "id": "d1355708",
   "metadata": {},
   "outputs": [],
   "source": [
    "output[~m.mask[:, 0]] = pred.flatten()"
   ]
  },
  {
   "cell_type": "code",
   "execution_count": 36,
   "id": "e6453381",
   "metadata": {},
   "outputs": [],
   "source": [
    "estimation = output.reshape((dataset.height, dataset.width))"
   ]
  },
  {
   "cell_type": "code",
   "execution_count": 37,
   "id": "8af55efe",
   "metadata": {},
   "outputs": [
    {
     "data": {
      "text/plain": [
       "(5343, 8671)"
      ]
     },
     "execution_count": 37,
     "metadata": {},
     "output_type": "execute_result"
    }
   ],
   "source": [
    "estimation.shape"
   ]
  },
  {
   "cell_type": "code",
   "execution_count": 44,
   "id": "77632239",
   "metadata": {},
   "outputs": [],
   "source": [
    "#Save the newly generated raster (classified raster) as geotiff\n",
    "with rasterio.Env():\n",
    "\n",
    "    # Write an array as a raster band to a new 8-bit file. For\n",
    "    # the new file's profile, we start with the profile of the source\n",
    "    profile = dataset.profile\n",
    "\n",
    "    # And then change the band count to 1, set the\n",
    "    # dtype to uint8, and specify LZW compression.\n",
    "    profile.update(\n",
    "        dtype=rasterio.uint8,\n",
    "        count=1,\n",
    "        compress='lzw')\n",
    "\n",
    "    with rasterio.open('classification.tif', 'w', **profile) as dst:\n",
    "        dst.write(estimation.astype(rasterio.uint8), 1)"
   ]
  }
 ],
 "metadata": {
  "kernelspec": {
   "display_name": "Python 3 (ipykernel)",
   "language": "python",
   "name": "python3"
  },
  "language_info": {
   "codemirror_mode": {
    "name": "ipython",
    "version": 3
   },
   "file_extension": ".py",
   "mimetype": "text/x-python",
   "name": "python",
   "nbconvert_exporter": "python",
   "pygments_lexer": "ipython3",
   "version": "3.10.2"
  }
 },
 "nbformat": 4,
 "nbformat_minor": 5
}
